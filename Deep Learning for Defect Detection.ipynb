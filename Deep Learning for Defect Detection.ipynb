{
 "cells": [
  {
   "cell_type": "code",
   "execution_count": 1,
   "metadata": {},
   "outputs": [],
   "source": [
    "from IPython.display import Image, display\n",
    "import pandas as pd\n",
    "import numpy as np\n",
    "from sklearn import metrics\n",
    "from sklearn.metrics import confusion_matrix\n",
    "import itertools\n",
    "import os\n",
    "import shutil\n",
    "from random import randint\n",
    "import random\n",
    "import glob\n",
    "import matplotlib.pyplot as plt\n",
    "import warnings\n",
    "import pathlib\n",
    "import pickle\n",
    "from PIL import Image, ImageOps\n",
    "from sklearn.utils import shuffle\n",
    "warnings.simplefilter(action='ignore', category=FutureWarning)\n",
    "os.environ['TF_CPP_MIN_LOG_LEVEL'] = '2' \n",
    "warnings.filterwarnings('ignore')\n",
    "%matplotlib inline"
   ]
  },
  {
   "cell_type": "markdown",
   "metadata": {},
   "source": [
    "# 1. Data Preparation and Processing"
   ]
  },
  {
   "cell_type": "code",
   "execution_count": 2,
   "metadata": {},
   "outputs": [
    {
     "name": "stdout",
     "output_type": "stream",
     "text": [
      "File count: 267\n"
     ]
    }
   ],
   "source": [
    "import os\n",
    "\n",
    "# folder path\n",
    "dir_path = r'C:\\\\Users\\\\רועי\\\\data\\\\NG-vs-OK\\\\OK-20220428T174909Z-001\\\\OK'\n",
    "count_OK = 0\n",
    "# Iterate directory\n",
    "for path in os.listdir(dir_path):\n",
    "    # check if current path is a file\n",
    "    if os.path.isfile(os.path.join(dir_path, path)):\n",
    "        count_OK += 1\n",
    "print('File count:', count_OK)"
   ]
  },
  {
   "cell_type": "code",
   "execution_count": 3,
   "metadata": {},
   "outputs": [
    {
     "name": "stdout",
     "output_type": "stream",
     "text": [
      "File count: 24\n"
     ]
    }
   ],
   "source": [
    "import os\n",
    "\n",
    "# folder path\n",
    "dir_path = r'C:\\\\Users\\\\רועי\\\\data\\\\NG-vs-OK\\\\NG-20220428T174957Z-001\\\\NG'\n",
    "count_NG = 0\n",
    "# Iterate directory\n",
    "for path in os.listdir(dir_path):\n",
    "    # check if current path is a file\n",
    "    if os.path.isfile(os.path.join(dir_path, path)):\n",
    "        count_NG += 1\n",
    "print('File count:', count_NG)"
   ]
  },
  {
   "cell_type": "code",
   "execution_count": 4,
   "metadata": {},
   "outputs": [
    {
     "data": {
      "text/html": [
       "<div>\n",
       "<style scoped>\n",
       "    .dataframe tbody tr th:only-of-type {\n",
       "        vertical-align: middle;\n",
       "    }\n",
       "\n",
       "    .dataframe tbody tr th {\n",
       "        vertical-align: top;\n",
       "    }\n",
       "\n",
       "    .dataframe thead th {\n",
       "        text-align: right;\n",
       "    }\n",
       "</style>\n",
       "<table border=\"1\" class=\"dataframe\">\n",
       "  <thead>\n",
       "    <tr style=\"text-align: right;\">\n",
       "      <th></th>\n",
       "      <th>class</th>\n",
       "      <th>count</th>\n",
       "    </tr>\n",
       "  </thead>\n",
       "  <tbody>\n",
       "    <tr>\n",
       "      <th>0</th>\n",
       "      <td>OK</td>\n",
       "      <td>267</td>\n",
       "    </tr>\n",
       "    <tr>\n",
       "      <th>1</th>\n",
       "      <td>NG</td>\n",
       "      <td>24</td>\n",
       "    </tr>\n",
       "  </tbody>\n",
       "</table>\n",
       "</div>"
      ],
      "text/plain": [
       "  class  count\n",
       "0    OK    267\n",
       "1    NG     24"
      ]
     },
     "execution_count": 4,
     "metadata": {},
     "output_type": "execute_result"
    }
   ],
   "source": [
    "import seaborn as sns\n",
    "d = {'class': ['OK', 'NG'], 'count': [count_OK, count_NG] }\n",
    "df = pd.DataFrame(data=d)\n",
    "df"
   ]
  },
  {
   "cell_type": "code",
   "execution_count": 5,
   "metadata": {},
   "outputs": [],
   "source": [
    "if os.path.isdir('C:\\\\Users\\\\רועי\\\\data\\\\NG-vs-OK\\\\DA1') is False:\n",
    "    os.makedirs('C:\\\\Users\\רועי\\\\data\\\\NG-vs-OK\\\\DA1')\n",
    "os.chdir('../../')"
   ]
  },
  {
   "cell_type": "code",
   "execution_count": 6,
   "metadata": {},
   "outputs": [],
   "source": [
    "os.chdir('C:\\\\Users\\\\רועי\\\\data\\\\NG-vs-OK\\\\NG-20220428T174957Z-001\\\\NG')\n",
    "if os.path.isdir('C:\\\\Users\\\\רועי\\\\data\\\\NG-vs-OK\\\\DA1\\\\NG') is False:\n",
    "    os.makedirs('C:\\\\Users\\רועי\\\\data\\\\NG-vs-OK\\\\DA1\\\\NG')\n",
    "    \n",
    "    for i in random.sample(glob.glob('*'), count_NG):\n",
    "        shutil.copy(i, 'C:\\\\Users\\\\רועי\\\\data\\\\NG-vs-OK\\\\DA1\\\\NG')\n",
    "os.chdir('../../')\n",
    "\n",
    "\n",
    "os.chdir('C:\\\\Users\\\\רועי\\\\data\\\\NG-vs-OK\\\\OK-20220428T174909Z-001\\\\OK')\n",
    "if os.path.isdir('C:\\\\Users\\\\רועי\\\\data\\\\NG-vs-OK\\\\DA1\\\\OK') is False:\n",
    "    os.makedirs('C:\\\\Users\\רועי\\\\data\\\\NG-vs-OK\\\\DA1\\\\OK')\n",
    "    \n",
    "    for i in random.sample(glob.glob('*'), count_OK):\n",
    "        shutil.copy(i, 'C:\\\\Users\\\\רועי\\\\data\\\\NG-vs-OK\\\\DA1\\\\OK')\n",
    "os.chdir('../../')"
   ]
  },
  {
   "cell_type": "code",
   "execution_count": 7,
   "metadata": {},
   "outputs": [],
   "source": [
    " # importing os module\n",
    "import os\n",
    " \n",
    "# Function to rename multiple files\n",
    "def main():\n",
    "   \n",
    "    folder = \"C:\\\\Users\\\\רועי\\\\data\\\\NG-vs-OK\\\\DA1\\\\NG\"\n",
    "    for count, filename in enumerate(os.listdir(folder)):\n",
    "        dst = f\"NG{str(count)}.jpg\"\n",
    "        src =f\"{folder}/{filename}\"  # foldername/filename, if .py file is outside folder\n",
    "        dst =f\"{folder}/{dst}\"\n",
    "         \n",
    "        # rename() function will\n",
    "        # rename all the files\n",
    "        os.rename(src, dst)\n",
    "        \n",
    " # Driver Code\n",
    "if __name__ == '__main__':\n",
    "     \n",
    "    # Calling main() function\n",
    "    main()"
   ]
  },
  {
   "cell_type": "code",
   "execution_count": 8,
   "metadata": {},
   "outputs": [],
   "source": [
    " # importing os module\n",
    "import os\n",
    " \n",
    "# Function to rename multiple files\n",
    "def main():\n",
    "   \n",
    "    folder = \"C:\\\\Users\\\\רועי\\\\data\\\\NG-vs-OK\\\\DA1\\\\OK\"\n",
    "    for count, filename in enumerate(os.listdir(folder)):\n",
    "        dst = f\"OK{str(count)}.jpg\"\n",
    "        src =f\"{folder}/{filename}\"  # foldername/filename, if .py file is outside folder\n",
    "        dst =f\"{folder}/{dst}\"\n",
    "         \n",
    "        # rename() function will\n",
    "        # rename all the files\n",
    "        os.rename(src, dst)\n",
    "        \n",
    " # Driver Code\n",
    "if __name__ == '__main__':\n",
    "     \n",
    "    # Calling main() function\n",
    "    main()"
   ]
  },
  {
   "cell_type": "markdown",
   "metadata": {},
   "source": [
    "## Process the entire dataset"
   ]
  },
  {
   "cell_type": "code",
   "execution_count": 9,
   "metadata": {},
   "outputs": [],
   "source": [
    "def process_image(img_path: str) -> np.array:\n",
    "    img = Image.open(img_path)\n",
    "    img = ImageOps.grayscale(img)\n",
    "    img = img.resize(size=(28, 28))\n",
    "    img = np.ravel(img) / 255.0\n",
    "    return img"
   ]
  },
  {
   "cell_type": "code",
   "execution_count": 10,
   "metadata": {},
   "outputs": [],
   "source": [
    "def process_folder(folder: pathlib.PosixPath) -> pd.DataFrame:\n",
    "    # We'll store the images here\n",
    "    processed = []\n",
    "    \n",
    "    # For every image in the directory\n",
    "    for img in folder.iterdir():\n",
    "        # Ensure JPG\n",
    "        if img.suffix == '.jpg':\n",
    "            # Two images failed for whatever reason, so let's just ignore them\n",
    "            try:\n",
    "                processed.append(process_image(img_path=str(img)))\n",
    "            except Exception as _:\n",
    "                continue\n",
    "           \n",
    "    # Convert to pd.DataFrame\n",
    "    processed = pd.DataFrame(processed)\n",
    "    # Add a class column - OK or a NG\n",
    "    processed['class'] = folder.parts[-1]\n",
    "    \n",
    "    return processed"
   ]
  },
  {
   "cell_type": "code",
   "execution_count": 11,
   "metadata": {},
   "outputs": [
    {
     "name": "stdout",
     "output_type": "stream",
     "text": [
      "\n",
      "Shuffled DataFrame:\n",
      "Wall time: 8.66 s\n"
     ]
    },
    {
     "data": {
      "text/html": [
       "<div>\n",
       "<style scoped>\n",
       "    .dataframe tbody tr th:only-of-type {\n",
       "        vertical-align: middle;\n",
       "    }\n",
       "\n",
       "    .dataframe tbody tr th {\n",
       "        vertical-align: top;\n",
       "    }\n",
       "\n",
       "    .dataframe thead th {\n",
       "        text-align: right;\n",
       "    }\n",
       "</style>\n",
       "<table border=\"1\" class=\"dataframe\">\n",
       "  <thead>\n",
       "    <tr style=\"text-align: right;\">\n",
       "      <th></th>\n",
       "      <th>Outcome</th>\n",
       "      <th>0</th>\n",
       "      <th>1</th>\n",
       "      <th>2</th>\n",
       "      <th>3</th>\n",
       "      <th>4</th>\n",
       "      <th>5</th>\n",
       "      <th>6</th>\n",
       "      <th>7</th>\n",
       "      <th>8</th>\n",
       "      <th>...</th>\n",
       "      <th>774</th>\n",
       "      <th>775</th>\n",
       "      <th>776</th>\n",
       "      <th>777</th>\n",
       "      <th>778</th>\n",
       "      <th>779</th>\n",
       "      <th>780</th>\n",
       "      <th>781</th>\n",
       "      <th>782</th>\n",
       "      <th>783</th>\n",
       "    </tr>\n",
       "  </thead>\n",
       "  <tbody>\n",
       "    <tr>\n",
       "      <th>168</th>\n",
       "      <td>OK</td>\n",
       "      <td>0.062745</td>\n",
       "      <td>0.066667</td>\n",
       "      <td>0.062745</td>\n",
       "      <td>0.062745</td>\n",
       "      <td>0.062745</td>\n",
       "      <td>0.062745</td>\n",
       "      <td>0.066667</td>\n",
       "      <td>0.066667</td>\n",
       "      <td>0.066667</td>\n",
       "      <td>...</td>\n",
       "      <td>0.066667</td>\n",
       "      <td>0.066667</td>\n",
       "      <td>0.066667</td>\n",
       "      <td>0.066667</td>\n",
       "      <td>0.066667</td>\n",
       "      <td>0.066667</td>\n",
       "      <td>0.066667</td>\n",
       "      <td>0.062745</td>\n",
       "      <td>0.062745</td>\n",
       "      <td>0.062745</td>\n",
       "    </tr>\n",
       "    <tr>\n",
       "      <th>144</th>\n",
       "      <td>OK</td>\n",
       "      <td>0.050980</td>\n",
       "      <td>0.050980</td>\n",
       "      <td>0.050980</td>\n",
       "      <td>0.050980</td>\n",
       "      <td>0.054902</td>\n",
       "      <td>0.050980</td>\n",
       "      <td>0.050980</td>\n",
       "      <td>0.054902</td>\n",
       "      <td>0.054902</td>\n",
       "      <td>...</td>\n",
       "      <td>0.054902</td>\n",
       "      <td>0.050980</td>\n",
       "      <td>0.050980</td>\n",
       "      <td>0.050980</td>\n",
       "      <td>0.050980</td>\n",
       "      <td>0.054902</td>\n",
       "      <td>0.054902</td>\n",
       "      <td>0.050980</td>\n",
       "      <td>0.050980</td>\n",
       "      <td>0.050980</td>\n",
       "    </tr>\n",
       "    <tr>\n",
       "      <th>45</th>\n",
       "      <td>OK</td>\n",
       "      <td>0.066667</td>\n",
       "      <td>0.066667</td>\n",
       "      <td>0.070588</td>\n",
       "      <td>0.066667</td>\n",
       "      <td>0.066667</td>\n",
       "      <td>0.066667</td>\n",
       "      <td>0.066667</td>\n",
       "      <td>0.066667</td>\n",
       "      <td>0.066667</td>\n",
       "      <td>...</td>\n",
       "      <td>0.070588</td>\n",
       "      <td>0.066667</td>\n",
       "      <td>0.066667</td>\n",
       "      <td>0.070588</td>\n",
       "      <td>0.070588</td>\n",
       "      <td>0.066667</td>\n",
       "      <td>0.066667</td>\n",
       "      <td>0.066667</td>\n",
       "      <td>0.062745</td>\n",
       "      <td>0.062745</td>\n",
       "    </tr>\n",
       "    <tr>\n",
       "      <th>11</th>\n",
       "      <td>OK</td>\n",
       "      <td>0.066667</td>\n",
       "      <td>0.066667</td>\n",
       "      <td>0.066667</td>\n",
       "      <td>0.070588</td>\n",
       "      <td>0.070588</td>\n",
       "      <td>0.070588</td>\n",
       "      <td>0.070588</td>\n",
       "      <td>0.070588</td>\n",
       "      <td>0.070588</td>\n",
       "      <td>...</td>\n",
       "      <td>0.070588</td>\n",
       "      <td>0.070588</td>\n",
       "      <td>0.070588</td>\n",
       "      <td>0.070588</td>\n",
       "      <td>0.070588</td>\n",
       "      <td>0.066667</td>\n",
       "      <td>0.066667</td>\n",
       "      <td>0.062745</td>\n",
       "      <td>0.062745</td>\n",
       "      <td>0.062745</td>\n",
       "    </tr>\n",
       "    <tr>\n",
       "      <th>91</th>\n",
       "      <td>OK</td>\n",
       "      <td>0.035294</td>\n",
       "      <td>0.035294</td>\n",
       "      <td>0.035294</td>\n",
       "      <td>0.039216</td>\n",
       "      <td>0.035294</td>\n",
       "      <td>0.035294</td>\n",
       "      <td>0.035294</td>\n",
       "      <td>0.035294</td>\n",
       "      <td>0.035294</td>\n",
       "      <td>...</td>\n",
       "      <td>0.035294</td>\n",
       "      <td>0.035294</td>\n",
       "      <td>0.035294</td>\n",
       "      <td>0.031373</td>\n",
       "      <td>0.031373</td>\n",
       "      <td>0.031373</td>\n",
       "      <td>0.031373</td>\n",
       "      <td>0.031373</td>\n",
       "      <td>0.027451</td>\n",
       "      <td>0.027451</td>\n",
       "    </tr>\n",
       "    <tr>\n",
       "      <th>7</th>\n",
       "      <td>OK</td>\n",
       "      <td>0.070588</td>\n",
       "      <td>0.070588</td>\n",
       "      <td>0.066667</td>\n",
       "      <td>0.070588</td>\n",
       "      <td>0.074510</td>\n",
       "      <td>0.070588</td>\n",
       "      <td>0.070588</td>\n",
       "      <td>0.070588</td>\n",
       "      <td>0.070588</td>\n",
       "      <td>...</td>\n",
       "      <td>0.070588</td>\n",
       "      <td>0.070588</td>\n",
       "      <td>0.070588</td>\n",
       "      <td>0.070588</td>\n",
       "      <td>0.070588</td>\n",
       "      <td>0.070588</td>\n",
       "      <td>0.066667</td>\n",
       "      <td>0.066667</td>\n",
       "      <td>0.062745</td>\n",
       "      <td>0.066667</td>\n",
       "    </tr>\n",
       "    <tr>\n",
       "      <th>19</th>\n",
       "      <td>OK</td>\n",
       "      <td>0.066667</td>\n",
       "      <td>0.066667</td>\n",
       "      <td>0.066667</td>\n",
       "      <td>0.070588</td>\n",
       "      <td>0.074510</td>\n",
       "      <td>0.070588</td>\n",
       "      <td>0.070588</td>\n",
       "      <td>0.070588</td>\n",
       "      <td>0.070588</td>\n",
       "      <td>...</td>\n",
       "      <td>0.074510</td>\n",
       "      <td>0.074510</td>\n",
       "      <td>0.070588</td>\n",
       "      <td>0.070588</td>\n",
       "      <td>0.070588</td>\n",
       "      <td>0.070588</td>\n",
       "      <td>0.070588</td>\n",
       "      <td>0.066667</td>\n",
       "      <td>0.066667</td>\n",
       "      <td>0.066667</td>\n",
       "    </tr>\n",
       "    <tr>\n",
       "      <th>180</th>\n",
       "      <td>OK</td>\n",
       "      <td>0.050980</td>\n",
       "      <td>0.050980</td>\n",
       "      <td>0.050980</td>\n",
       "      <td>0.054902</td>\n",
       "      <td>0.054902</td>\n",
       "      <td>0.054902</td>\n",
       "      <td>0.054902</td>\n",
       "      <td>0.054902</td>\n",
       "      <td>0.054902</td>\n",
       "      <td>...</td>\n",
       "      <td>0.054902</td>\n",
       "      <td>0.054902</td>\n",
       "      <td>0.054902</td>\n",
       "      <td>0.054902</td>\n",
       "      <td>0.054902</td>\n",
       "      <td>0.054902</td>\n",
       "      <td>0.054902</td>\n",
       "      <td>0.054902</td>\n",
       "      <td>0.054902</td>\n",
       "      <td>0.050980</td>\n",
       "    </tr>\n",
       "    <tr>\n",
       "      <th>35</th>\n",
       "      <td>OK</td>\n",
       "      <td>0.066667</td>\n",
       "      <td>0.062745</td>\n",
       "      <td>0.062745</td>\n",
       "      <td>0.062745</td>\n",
       "      <td>0.066667</td>\n",
       "      <td>0.062745</td>\n",
       "      <td>0.066667</td>\n",
       "      <td>0.066667</td>\n",
       "      <td>0.066667</td>\n",
       "      <td>...</td>\n",
       "      <td>0.066667</td>\n",
       "      <td>0.062745</td>\n",
       "      <td>0.062745</td>\n",
       "      <td>0.062745</td>\n",
       "      <td>0.062745</td>\n",
       "      <td>0.066667</td>\n",
       "      <td>0.062745</td>\n",
       "      <td>0.062745</td>\n",
       "      <td>0.062745</td>\n",
       "      <td>0.058824</td>\n",
       "    </tr>\n",
       "    <tr>\n",
       "      <th>59</th>\n",
       "      <td>OK</td>\n",
       "      <td>0.050980</td>\n",
       "      <td>0.050980</td>\n",
       "      <td>0.050980</td>\n",
       "      <td>0.050980</td>\n",
       "      <td>0.050980</td>\n",
       "      <td>0.050980</td>\n",
       "      <td>0.050980</td>\n",
       "      <td>0.050980</td>\n",
       "      <td>0.050980</td>\n",
       "      <td>...</td>\n",
       "      <td>0.054902</td>\n",
       "      <td>0.054902</td>\n",
       "      <td>0.054902</td>\n",
       "      <td>0.050980</td>\n",
       "      <td>0.050980</td>\n",
       "      <td>0.050980</td>\n",
       "      <td>0.050980</td>\n",
       "      <td>0.050980</td>\n",
       "      <td>0.050980</td>\n",
       "      <td>0.047059</td>\n",
       "    </tr>\n",
       "  </tbody>\n",
       "</table>\n",
       "<p>10 rows × 785 columns</p>\n",
       "</div>"
      ],
      "text/plain": [
       "    Outcome         0         1         2         3         4         5  \\\n",
       "168      OK  0.062745  0.066667  0.062745  0.062745  0.062745  0.062745   \n",
       "144      OK  0.050980  0.050980  0.050980  0.050980  0.054902  0.050980   \n",
       "45       OK  0.066667  0.066667  0.070588  0.066667  0.066667  0.066667   \n",
       "11       OK  0.066667  0.066667  0.066667  0.070588  0.070588  0.070588   \n",
       "91       OK  0.035294  0.035294  0.035294  0.039216  0.035294  0.035294   \n",
       "7        OK  0.070588  0.070588  0.066667  0.070588  0.074510  0.070588   \n",
       "19       OK  0.066667  0.066667  0.066667  0.070588  0.074510  0.070588   \n",
       "180      OK  0.050980  0.050980  0.050980  0.054902  0.054902  0.054902   \n",
       "35       OK  0.066667  0.062745  0.062745  0.062745  0.066667  0.062745   \n",
       "59       OK  0.050980  0.050980  0.050980  0.050980  0.050980  0.050980   \n",
       "\n",
       "            6         7         8  ...       774       775       776  \\\n",
       "168  0.066667  0.066667  0.066667  ...  0.066667  0.066667  0.066667   \n",
       "144  0.050980  0.054902  0.054902  ...  0.054902  0.050980  0.050980   \n",
       "45   0.066667  0.066667  0.066667  ...  0.070588  0.066667  0.066667   \n",
       "11   0.070588  0.070588  0.070588  ...  0.070588  0.070588  0.070588   \n",
       "91   0.035294  0.035294  0.035294  ...  0.035294  0.035294  0.035294   \n",
       "7    0.070588  0.070588  0.070588  ...  0.070588  0.070588  0.070588   \n",
       "19   0.070588  0.070588  0.070588  ...  0.074510  0.074510  0.070588   \n",
       "180  0.054902  0.054902  0.054902  ...  0.054902  0.054902  0.054902   \n",
       "35   0.066667  0.066667  0.066667  ...  0.066667  0.062745  0.062745   \n",
       "59   0.050980  0.050980  0.050980  ...  0.054902  0.054902  0.054902   \n",
       "\n",
       "          777       778       779       780       781       782       783  \n",
       "168  0.066667  0.066667  0.066667  0.066667  0.062745  0.062745  0.062745  \n",
       "144  0.050980  0.050980  0.054902  0.054902  0.050980  0.050980  0.050980  \n",
       "45   0.070588  0.070588  0.066667  0.066667  0.066667  0.062745  0.062745  \n",
       "11   0.070588  0.070588  0.066667  0.066667  0.062745  0.062745  0.062745  \n",
       "91   0.031373  0.031373  0.031373  0.031373  0.031373  0.027451  0.027451  \n",
       "7    0.070588  0.070588  0.070588  0.066667  0.066667  0.062745  0.066667  \n",
       "19   0.070588  0.070588  0.070588  0.070588  0.066667  0.066667  0.066667  \n",
       "180  0.054902  0.054902  0.054902  0.054902  0.054902  0.054902  0.050980  \n",
       "35   0.062745  0.062745  0.066667  0.062745  0.062745  0.062745  0.058824  \n",
       "59   0.050980  0.050980  0.050980  0.050980  0.050980  0.050980  0.047059  \n",
       "\n",
       "[10 rows x 785 columns]"
      ]
     },
     "execution_count": 11,
     "metadata": {},
     "output_type": "execute_result"
    }
   ],
   "source": [
    "%%time\n",
    "\n",
    "OKֹ_set = process_folder(folder=pathlib.Path.cwd().joinpath('C:\\\\Users\\רועי\\\\\\data\\\\NG-vs-OK\\\\DA1\\\\OK'))\n",
    "NG_set = process_folder(folder=pathlib.Path.cwd().joinpath('C:\\\\Users\\רועי\\\\\\data\\\\NG-vs-OK\\\\DA1\\\\NG'))\n",
    "os.chdir('../../')\n",
    "data = pd.concat([OKֹ_set, NG_set], axis=0)\n",
    "data.rename(columns = {'class': 'Outcome'}, inplace=True)\n",
    "column_to_move = data.pop(\"Outcome\")\n",
    "# insert column with insert(location, column_name, column_value)\n",
    "data.insert(0, \"Outcome\", column_to_move)\n",
    "# shuffle the DataFrame rows\n",
    "data = data.sample(frac = 1)\n",
    "# print the shuffled DataFrame\n",
    "print(\"\\nShuffled DataFrame:\")\n",
    "data.head(10)"
   ]
  },
  {
   "cell_type": "code",
   "execution_count": 12,
   "metadata": {},
   "outputs": [
    {
     "name": "stdout",
     "output_type": "stream",
     "text": [
      "dimension of data: (291, 785)\n"
     ]
    }
   ],
   "source": [
    "print(\"dimension of data: {}\".format(data.shape))"
   ]
  },
  {
   "cell_type": "code",
   "execution_count": 13,
   "metadata": {},
   "outputs": [
    {
     "name": "stdout",
     "output_type": "stream",
     "text": [
      "Outcome\n",
      "NG     24\n",
      "OK    267\n",
      "dtype: int64\n"
     ]
    }
   ],
   "source": [
    "print(data.groupby('Outcome').size())"
   ]
  },
  {
   "cell_type": "code",
   "execution_count": 14,
   "metadata": {},
   "outputs": [
    {
     "data": {
      "text/plain": [
       "<AxesSubplot:xlabel='Outcome', ylabel='count'>"
      ]
     },
     "execution_count": 14,
     "metadata": {},
     "output_type": "execute_result"
    },
    {
     "data": {
      "image/png": "[encoded data removed]",
      "text/plain": [
       "<Figure size 432x288 with 1 Axes>"
      ]
     },
     "metadata": {
      "needs_background": "light"
     },
     "output_type": "display_data"
    }
   ],
   "source": [
    "import seaborn as sns\n",
    "sns.countplot(data['Outcome'],label=\"Count\")"
   ]
  },
  {
   "cell_type": "code",
   "execution_count": 15,
   "metadata": {},
   "outputs": [
    {
     "data": {
      "text/html": [
       "<div>\n",
       "<style scoped>\n",
       "    .dataframe tbody tr th:only-of-type {\n",
       "        vertical-align: middle;\n",
       "    }\n",
       "\n",
       "    .dataframe tbody tr th {\n",
       "        vertical-align: top;\n",
       "    }\n",
       "\n",
       "    .dataframe thead th {\n",
       "        text-align: right;\n",
       "    }\n",
       "</style>\n",
       "<table border=\"1\" class=\"dataframe\">\n",
       "  <thead>\n",
       "    <tr style=\"text-align: right;\">\n",
       "      <th></th>\n",
       "      <th>Outcome</th>\n",
       "      <th>0</th>\n",
       "      <th>1</th>\n",
       "      <th>2</th>\n",
       "      <th>3</th>\n",
       "      <th>4</th>\n",
       "      <th>5</th>\n",
       "      <th>6</th>\n",
       "      <th>7</th>\n",
       "      <th>8</th>\n",
       "      <th>...</th>\n",
       "      <th>774</th>\n",
       "      <th>775</th>\n",
       "      <th>776</th>\n",
       "      <th>777</th>\n",
       "      <th>778</th>\n",
       "      <th>779</th>\n",
       "      <th>780</th>\n",
       "      <th>781</th>\n",
       "      <th>782</th>\n",
       "      <th>783</th>\n",
       "    </tr>\n",
       "  </thead>\n",
       "  <tbody>\n",
       "    <tr>\n",
       "      <th>168</th>\n",
       "      <td>0</td>\n",
       "      <td>0.062745</td>\n",
       "      <td>0.066667</td>\n",
       "      <td>0.062745</td>\n",
       "      <td>0.062745</td>\n",
       "      <td>0.062745</td>\n",
       "      <td>0.062745</td>\n",
       "      <td>0.066667</td>\n",
       "      <td>0.066667</td>\n",
       "      <td>0.066667</td>\n",
       "      <td>...</td>\n",
       "      <td>0.066667</td>\n",
       "      <td>0.066667</td>\n",
       "      <td>0.066667</td>\n",
       "      <td>0.066667</td>\n",
       "      <td>0.066667</td>\n",
       "      <td>0.066667</td>\n",
       "      <td>0.066667</td>\n",
       "      <td>0.062745</td>\n",
       "      <td>0.062745</td>\n",
       "      <td>0.062745</td>\n",
       "    </tr>\n",
       "    <tr>\n",
       "      <th>144</th>\n",
       "      <td>0</td>\n",
       "      <td>0.050980</td>\n",
       "      <td>0.050980</td>\n",
       "      <td>0.050980</td>\n",
       "      <td>0.050980</td>\n",
       "      <td>0.054902</td>\n",
       "      <td>0.050980</td>\n",
       "      <td>0.050980</td>\n",
       "      <td>0.054902</td>\n",
       "      <td>0.054902</td>\n",
       "      <td>...</td>\n",
       "      <td>0.054902</td>\n",
       "      <td>0.050980</td>\n",
       "      <td>0.050980</td>\n",
       "      <td>0.050980</td>\n",
       "      <td>0.050980</td>\n",
       "      <td>0.054902</td>\n",
       "      <td>0.054902</td>\n",
       "      <td>0.050980</td>\n",
       "      <td>0.050980</td>\n",
       "      <td>0.050980</td>\n",
       "    </tr>\n",
       "    <tr>\n",
       "      <th>45</th>\n",
       "      <td>0</td>\n",
       "      <td>0.066667</td>\n",
       "      <td>0.066667</td>\n",
       "      <td>0.070588</td>\n",
       "      <td>0.066667</td>\n",
       "      <td>0.066667</td>\n",
       "      <td>0.066667</td>\n",
       "      <td>0.066667</td>\n",
       "      <td>0.066667</td>\n",
       "      <td>0.066667</td>\n",
       "      <td>...</td>\n",
       "      <td>0.070588</td>\n",
       "      <td>0.066667</td>\n",
       "      <td>0.066667</td>\n",
       "      <td>0.070588</td>\n",
       "      <td>0.070588</td>\n",
       "      <td>0.066667</td>\n",
       "      <td>0.066667</td>\n",
       "      <td>0.066667</td>\n",
       "      <td>0.062745</td>\n",
       "      <td>0.062745</td>\n",
       "    </tr>\n",
       "    <tr>\n",
       "      <th>11</th>\n",
       "      <td>0</td>\n",
       "      <td>0.066667</td>\n",
       "      <td>0.066667</td>\n",
       "      <td>0.066667</td>\n",
       "      <td>0.070588</td>\n",
       "      <td>0.070588</td>\n",
       "      <td>0.070588</td>\n",
       "      <td>0.070588</td>\n",
       "      <td>0.070588</td>\n",
       "      <td>0.070588</td>\n",
       "      <td>...</td>\n",
       "      <td>0.070588</td>\n",
       "      <td>0.070588</td>\n",
       "      <td>0.070588</td>\n",
       "      <td>0.070588</td>\n",
       "      <td>0.070588</td>\n",
       "      <td>0.066667</td>\n",
       "      <td>0.066667</td>\n",
       "      <td>0.062745</td>\n",
       "      <td>0.062745</td>\n",
       "      <td>0.062745</td>\n",
       "    </tr>\n",
       "    <tr>\n",
       "      <th>91</th>\n",
       "      <td>0</td>\n",
       "      <td>0.035294</td>\n",
       "      <td>0.035294</td>\n",
       "      <td>0.035294</td>\n",
       "      <td>0.039216</td>\n",
       "      <td>0.035294</td>\n",
       "      <td>0.035294</td>\n",
       "      <td>0.035294</td>\n",
       "      <td>0.035294</td>\n",
       "      <td>0.035294</td>\n",
       "      <td>...</td>\n",
       "      <td>0.035294</td>\n",
       "      <td>0.035294</td>\n",
       "      <td>0.035294</td>\n",
       "      <td>0.031373</td>\n",
       "      <td>0.031373</td>\n",
       "      <td>0.031373</td>\n",
       "      <td>0.031373</td>\n",
       "      <td>0.031373</td>\n",
       "      <td>0.027451</td>\n",
       "      <td>0.027451</td>\n",
       "    </tr>\n",
       "  </tbody>\n",
       "</table>\n",
       "<p>5 rows × 785 columns</p>\n",
       "</div>"
      ],
      "text/plain": [
       "     Outcome         0         1         2         3         4         5  \\\n",
       "168        0  0.062745  0.066667  0.062745  0.062745  0.062745  0.062745   \n",
       "144        0  0.050980  0.050980  0.050980  0.050980  0.054902  0.050980   \n",
       "45         0  0.066667  0.066667  0.070588  0.066667  0.066667  0.066667   \n",
       "11         0  0.066667  0.066667  0.066667  0.070588  0.070588  0.070588   \n",
       "91         0  0.035294  0.035294  0.035294  0.039216  0.035294  0.035294   \n",
       "\n",
       "            6         7         8  ...       774       775       776  \\\n",
       "168  0.066667  0.066667  0.066667  ...  0.066667  0.066667  0.066667   \n",
       "144  0.050980  0.054902  0.054902  ...  0.054902  0.050980  0.050980   \n",
       "45   0.066667  0.066667  0.066667  ...  0.070588  0.066667  0.066667   \n",
       "11   0.070588  0.070588  0.070588  ...  0.070588  0.070588  0.070588   \n",
       "91   0.035294  0.035294  0.035294  ...  0.035294  0.035294  0.035294   \n",
       "\n",
       "          777       778       779       780       781       782       783  \n",
       "168  0.066667  0.066667  0.066667  0.066667  0.062745  0.062745  0.062745  \n",
       "144  0.050980  0.050980  0.054902  0.054902  0.050980  0.050980  0.050980  \n",
       "45   0.070588  0.070588  0.066667  0.066667  0.066667  0.062745  0.062745  \n",
       "11   0.070588  0.070588  0.066667  0.066667  0.062745  0.062745  0.062745  \n",
       "91   0.031373  0.031373  0.031373  0.031373  0.031373  0.027451  0.027451  \n",
       "\n",
       "[5 rows x 785 columns]"
      ]
     },
     "execution_count": 15,
     "metadata": {},
     "output_type": "execute_result"
    }
   ],
   "source": [
    "data['Outcome']=np.where(data['Outcome'] =='OK', 0, data['Outcome'])\n",
    "data['Outcome']=np.where(data['Outcome'] =='NG', 1, data['Outcome'])\n",
    "data['Outcome'] = data['Outcome'].astype('int') \n",
    "data.head(5)"
   ]
  },
  {
   "cell_type": "code",
   "execution_count": 16,
   "metadata": {},
   "outputs": [],
   "source": [
    "X = data.loc[:, data.columns != 'Outcome']\n",
    "y = data.loc[:, data.columns == 'Outcome']\n",
    "y = y.astype('int') "
   ]
  },
  {
   "cell_type": "markdown",
   "metadata": {},
   "source": [
    "# 2. Over-sampling using SMOTE"
   ]
  },
  {
   "cell_type": "code",
   "execution_count": 17,
   "metadata": {},
   "outputs": [
    {
     "name": "stdout",
     "output_type": "stream",
     "text": [
      "length of oversampled data is  534\n",
      "Number of OK images in oversampled data 267\n",
      "Number of NG images in oversampled data 267\n",
      "Proportion of OK data in oversampled data is  0.5\n",
      "Proportion of NG data in oversampled data is  0.5\n"
     ]
    }
   ],
   "source": [
    "from sklearn.model_selection import train_test_split\n",
    "from imblearn.over_sampling import SMOTE\n",
    "\n",
    "os = SMOTE(random_state=0)\n",
    "\n",
    "columns = X.columns\n",
    "os_data_X,os_data_y=os.fit_sample(X, y)\n",
    "os_data_X = pd.DataFrame(data=os_data_X,columns=columns )\n",
    "os_data_y= pd.DataFrame(data=os_data_y,columns=['Outcome'])\n",
    "\n",
    "# we can Check the numbers of our data\n",
    "print(\"length of oversampled data is \",len(os_data_X))\n",
    "print(\"Number of OK images in oversampled data\",len(os_data_y[os_data_y['Outcome']==0]))\n",
    "print(\"Number of NG images in oversampled data\",len(os_data_y[os_data_y['Outcome']==1]))\n",
    "print(\"Proportion of OK data in oversampled data is \",len(os_data_y[os_data_y['Outcome']==0])/len(os_data_X))\n",
    "print(\"Proportion of NG data in oversampled data is \",len(os_data_y[os_data_y['Outcome']==1])/len(os_data_X))"
   ]
  },
  {
   "cell_type": "code",
   "execution_count": 18,
   "metadata": {},
   "outputs": [],
   "source": [
    "X=os_data_X\n",
    "y=os_data_y['Outcome']"
   ]
  },
  {
   "cell_type": "code",
   "execution_count": 19,
   "metadata": {},
   "outputs": [],
   "source": [
    "from sklearn.model_selection import train_test_split\n",
    "\n",
    "X_train, X_test, y_train, y_test = train_test_split(X, y, test_size=0.33, random_state=66, stratify=y)"
   ]
  },
  {
   "cell_type": "markdown",
   "metadata": {},
   "source": [
    "# 3. Create an Artificial Neural Network with TensorFlow's Keras API"
   ]
  },
  {
   "cell_type": "code",
   "execution_count": 20,
   "metadata": {},
   "outputs": [],
   "source": [
    "import tensorflow as tf\n",
    "from tensorflow import keras\n",
    "from tensorflow.keras.models import Sequential\n",
    "from tensorflow.keras.layers import Activation, Dense\n",
    "from tensorflow.keras.optimizers import Adam\n",
    "from tensorflow.keras.metrics import categorical_crossentropy"
   ]
  },
  {
   "cell_type": "code",
   "execution_count": 21,
   "metadata": {},
   "outputs": [
    {
     "name": "stdout",
     "output_type": "stream",
     "text": [
      "Num GPUs Available: 0\n"
     ]
    }
   ],
   "source": [
    "physical_devices = tf.config.experimental.list_physical_devices(\"GPU\")\n",
    "print(\"Num GPUs Available:\", len(physical_devices))"
   ]
  },
  {
   "cell_type": "code",
   "execution_count": 22,
   "metadata": {},
   "outputs": [],
   "source": [
    "model = Sequential([\n",
    "    Dense(units=16, input_shape=(len(X_train.columns),), activation='relu'),\n",
    "    Dense(units=32, activation='relu'),\n",
    "    Dense(units=2, activation='softmax')\n",
    "])"
   ]
  },
  {
   "cell_type": "code",
   "execution_count": 23,
   "metadata": {},
   "outputs": [
    {
     "name": "stdout",
     "output_type": "stream",
     "text": [
      "Model: \"sequential\"\n",
      "_________________________________________________________________\n",
      "Layer (type)                 Output Shape              Param #   \n",
      "=================================================================\n",
      "dense (Dense)                (None, 16)                12560     \n",
      "_________________________________________________________________\n",
      "dense_1 (Dense)              (None, 32)                544       \n",
      "_________________________________________________________________\n",
      "dense_2 (Dense)              (None, 2)                 66        \n",
      "=================================================================\n",
      "Total params: 13,170\n",
      "Trainable params: 13,170\n",
      "Non-trainable params: 0\n",
      "_________________________________________________________________\n"
     ]
    }
   ],
   "source": [
    "model.summary()"
   ]
  },
  {
   "cell_type": "code",
   "execution_count": 24,
   "metadata": {},
   "outputs": [],
   "source": [
    "model.compile(optimizer=Adam(learning_rate=0.0001), loss='sparse_categorical_crossentropy', metrics=['accuracy'])"
   ]
  },
  {
   "cell_type": "code",
   "execution_count": 25,
   "metadata": {},
   "outputs": [],
   "source": [
    "from sklearn.preprocessing import MinMaxScaler\n",
    "\n",
    "scaler = MinMaxScaler(feature_range=(0,1))\n",
    "X_train_scaled = scaler.fit_transform(X_train)"
   ]
  },
  {
   "cell_type": "code",
   "execution_count": 26,
   "metadata": {},
   "outputs": [
    {
     "name": "stdout",
     "output_type": "stream",
     "text": [
      "Train on 357 samples\n",
      "Epoch 1/30\n",
      "357/357 - 1s - loss: 0.6927 - accuracy: 0.5378\n",
      "Epoch 2/30\n",
      "357/357 - 0s - loss: 0.6853 - accuracy: 0.5406\n",
      "Epoch 3/30\n",
      "357/357 - 0s - loss: 0.6764 - accuracy: 0.6779\n",
      "Epoch 4/30\n",
      "357/357 - 0s - loss: 0.6712 - accuracy: 0.6891\n",
      "Epoch 5/30\n",
      "357/357 - 0s - loss: 0.6675 - accuracy: 0.7115\n",
      "Epoch 6/30\n",
      "357/357 - 0s - loss: 0.6640 - accuracy: 0.6667\n",
      "Epoch 7/30\n",
      "357/357 - 0s - loss: 0.6611 - accuracy: 0.6919\n",
      "Epoch 8/30\n",
      "357/357 - 0s - loss: 0.6558 - accuracy: 0.6863\n",
      "Epoch 9/30\n",
      "357/357 - 0s - loss: 0.6514 - accuracy: 0.7087\n",
      "Epoch 10/30\n",
      "357/357 - 0s - loss: 0.6462 - accuracy: 0.7787\n",
      "Epoch 11/30\n",
      "357/357 - 0s - loss: 0.6417 - accuracy: 0.7227\n",
      "Epoch 12/30\n",
      "357/357 - 0s - loss: 0.6410 - accuracy: 0.7227\n",
      "Epoch 13/30\n",
      "357/357 - 0s - loss: 0.6335 - accuracy: 0.7255\n",
      "Epoch 14/30\n",
      "357/357 - 0s - loss: 0.6405 - accuracy: 0.6639\n",
      "Epoch 15/30\n",
      "357/357 - 0s - loss: 0.6360 - accuracy: 0.6975\n",
      "Epoch 16/30\n",
      "357/357 - 0s - loss: 0.6198 - accuracy: 0.7787\n",
      "Epoch 17/30\n",
      "357/357 - 0s - loss: 0.6170 - accuracy: 0.7479\n",
      "Epoch 18/30\n",
      "357/357 - 0s - loss: 0.6148 - accuracy: 0.7143\n",
      "Epoch 19/30\n",
      "357/357 - 0s - loss: 0.6102 - accuracy: 0.7647\n",
      "Epoch 20/30\n",
      "357/357 - 0s - loss: 0.6013 - accuracy: 0.7843\n",
      "Epoch 21/30\n",
      "357/357 - 0s - loss: 0.5995 - accuracy: 0.7087\n",
      "Epoch 22/30\n",
      "357/357 - 0s - loss: 0.5870 - accuracy: 0.7927\n",
      "Epoch 23/30\n",
      "357/357 - 0s - loss: 0.5823 - accuracy: 0.8179\n",
      "Epoch 24/30\n",
      "357/357 - 0s - loss: 0.5757 - accuracy: 0.8263\n",
      "Epoch 25/30\n",
      "357/357 - 0s - loss: 0.5685 - accuracy: 0.8319\n",
      "Epoch 26/30\n",
      "357/357 - 0s - loss: 0.5624 - accuracy: 0.8571\n",
      "Epoch 27/30\n",
      "357/357 - 0s - loss: 0.5519 - accuracy: 0.8431\n",
      "Epoch 28/30\n",
      "357/357 - 0s - loss: 0.5509 - accuracy: 0.8515\n",
      "Epoch 29/30\n",
      "357/357 - 0s - loss: 0.5405 - accuracy: 0.8207\n",
      "Epoch 30/30\n",
      "357/357 - 0s - loss: 0.5422 - accuracy: 0.7787\n"
     ]
    },
    {
     "data": {
      "text/plain": [
       "<tensorflow.python.keras.callbacks.History at 0x19b4a0a1348>"
      ]
     },
     "execution_count": 26,
     "metadata": {},
     "output_type": "execute_result"
    }
   ],
   "source": [
    "model.fit(x=X_train_scaled, y=y_train, batch_size=10, epochs=30, verbose=2)"
   ]
  },
  {
   "cell_type": "markdown",
   "metadata": {},
   "source": [
    "# 4. Build a Validation Set With TensorFlow’s Keras API"
   ]
  },
  {
   "cell_type": "code",
   "execution_count": 27,
   "metadata": {},
   "outputs": [
    {
     "name": "stdout",
     "output_type": "stream",
     "text": [
      "Train on 321 samples, validate on 36 samples\n",
      "Epoch 1/30\n",
      "321/321 - 0s - loss: 0.5309 - accuracy: 0.8411 - val_loss: 0.5133 - val_accuracy: 0.8056\n",
      "Epoch 2/30\n",
      "321/321 - 0s - loss: 0.5422 - accuracy: 0.8006 - val_loss: 0.5382 - val_accuracy: 0.8056\n",
      "Epoch 3/30\n",
      "321/321 - 0s - loss: 0.5241 - accuracy: 0.8442 - val_loss: 0.4985 - val_accuracy: 0.9167\n",
      "Epoch 4/30\n",
      "321/321 - 0s - loss: 0.5085 - accuracy: 0.8349 - val_loss: 0.5329 - val_accuracy: 0.8333\n",
      "Epoch 5/30\n",
      "321/321 - 0s - loss: 0.5085 - accuracy: 0.8660 - val_loss: 0.4909 - val_accuracy: 0.9444\n",
      "Epoch 6/30\n",
      "321/321 - 0s - loss: 0.5011 - accuracy: 0.8692 - val_loss: 0.4770 - val_accuracy: 0.9444\n",
      "Epoch 7/30\n",
      "321/321 - 0s - loss: 0.4908 - accuracy: 0.8754 - val_loss: 0.4920 - val_accuracy: 0.8611\n",
      "Epoch 8/30\n",
      "321/321 - 0s - loss: 0.4845 - accuracy: 0.8660 - val_loss: 0.4599 - val_accuracy: 0.9444\n",
      "Epoch 9/30\n",
      "321/321 - 0s - loss: 0.4775 - accuracy: 0.8879 - val_loss: 0.4695 - val_accuracy: 0.8889\n",
      "Epoch 10/30\n",
      "321/321 - 0s - loss: 0.4728 - accuracy: 0.8816 - val_loss: 0.4767 - val_accuracy: 0.8889\n",
      "Epoch 11/30\n",
      "321/321 - 0s - loss: 0.4551 - accuracy: 0.8847 - val_loss: 0.4292 - val_accuracy: 0.9444\n",
      "Epoch 12/30\n",
      "321/321 - 0s - loss: 0.4563 - accuracy: 0.8879 - val_loss: 0.4238 - val_accuracy: 0.9167\n",
      "Epoch 13/30\n",
      "321/321 - 0s - loss: 0.4540 - accuracy: 0.8816 - val_loss: 0.4174 - val_accuracy: 0.9444\n",
      "Epoch 14/30\n",
      "321/321 - 0s - loss: 0.4411 - accuracy: 0.8910 - val_loss: 0.4098 - val_accuracy: 0.9444\n",
      "Epoch 15/30\n",
      "321/321 - 0s - loss: 0.4216 - accuracy: 0.9065 - val_loss: 0.4968 - val_accuracy: 0.7778\n",
      "Epoch 16/30\n",
      "321/321 - 0s - loss: 0.4398 - accuracy: 0.8847 - val_loss: 0.3928 - val_accuracy: 0.9444\n",
      "Epoch 17/30\n",
      "321/321 - 0s - loss: 0.4253 - accuracy: 0.8847 - val_loss: 0.3843 - val_accuracy: 0.9444\n",
      "Epoch 18/30\n",
      "321/321 - 0s - loss: 0.4156 - accuracy: 0.9128 - val_loss: 0.3868 - val_accuracy: 0.9444\n",
      "Epoch 19/30\n",
      "321/321 - 0s - loss: 0.4086 - accuracy: 0.9159 - val_loss: 0.3855 - val_accuracy: 0.9444\n",
      "Epoch 20/30\n",
      "321/321 - 0s - loss: 0.4084 - accuracy: 0.8910 - val_loss: 0.3765 - val_accuracy: 0.9444\n",
      "Epoch 21/30\n",
      "321/321 - 0s - loss: 0.4012 - accuracy: 0.9065 - val_loss: 0.3590 - val_accuracy: 0.9444\n",
      "Epoch 22/30\n",
      "321/321 - 0s - loss: 0.3878 - accuracy: 0.9315 - val_loss: 0.3762 - val_accuracy: 0.9444\n",
      "Epoch 23/30\n",
      "321/321 - 0s - loss: 0.3797 - accuracy: 0.9346 - val_loss: 0.3459 - val_accuracy: 0.9444\n",
      "Epoch 24/30\n",
      "321/321 - 0s - loss: 0.3827 - accuracy: 0.9252 - val_loss: 0.3754 - val_accuracy: 0.9444\n",
      "Epoch 25/30\n",
      "321/321 - 0s - loss: 0.3791 - accuracy: 0.9034 - val_loss: 0.3457 - val_accuracy: 0.9444\n",
      "Epoch 26/30\n",
      "321/321 - 0s - loss: 0.3660 - accuracy: 0.9315 - val_loss: 0.3468 - val_accuracy: 0.9722\n",
      "Epoch 27/30\n",
      "321/321 - 0s - loss: 0.3630 - accuracy: 0.9159 - val_loss: 0.3304 - val_accuracy: 0.9444\n",
      "Epoch 28/30\n",
      "321/321 - 0s - loss: 0.3654 - accuracy: 0.9128 - val_loss: 0.3793 - val_accuracy: 0.8611\n",
      "Epoch 29/30\n",
      "321/321 - 0s - loss: 0.3645 - accuracy: 0.8972 - val_loss: 0.3108 - val_accuracy: 0.9444\n",
      "Epoch 30/30\n",
      "321/321 - 0s - loss: 0.3566 - accuracy: 0.9221 - val_loss: 0.3066 - val_accuracy: 0.9722\n"
     ]
    },
    {
     "data": {
      "text/plain": [
       "<tensorflow.python.keras.callbacks.History at 0x19b4b89c448>"
      ]
     },
     "execution_count": 27,
     "metadata": {},
     "output_type": "execute_result"
    }
   ],
   "source": [
    "model.fit(X_train_scaled, y=y_train, validation_split=0.1, batch_size=10, epochs=30, verbose=2)"
   ]
  },
  {
   "cell_type": "markdown",
   "metadata": {},
   "source": [
    "# 5. Neural Network Predictions With TensorFlow’s Keras API"
   ]
  },
  {
   "cell_type": "code",
   "execution_count": 28,
   "metadata": {},
   "outputs": [],
   "source": [
    "X_test_scaled = scaler.fit_transform(X_test)"
   ]
  },
  {
   "cell_type": "code",
   "execution_count": 29,
   "metadata": {},
   "outputs": [],
   "source": [
    "predictions = model.predict(x=X_test_scaled, batch_size=10, verbose=0)"
   ]
  },
  {
   "cell_type": "code",
   "execution_count": 30,
   "metadata": {},
   "outputs": [
    {
     "name": "stdout",
     "output_type": "stream",
     "text": [
      "[0.5579806  0.44201943]\n",
      "[0.44300404 0.5569959 ]\n",
      "[0.2991878 0.7008122]\n",
      "[0.9129245  0.08707549]\n",
      "[0.9240927 0.0759073]\n",
      "[0.3623253 0.6376747]\n",
      "[0.73583674 0.26416326]\n",
      "[0.43868873 0.5613113 ]\n",
      "[0.26568303 0.73431695]\n",
      "[0.65481913 0.34518078]\n",
      "[0.5582767  0.44172335]\n",
      "[0.76690114 0.23309883]\n",
      "[0.34342024 0.65657973]\n",
      "[0.9626956  0.03730443]\n",
      "[0.5277068 0.4722932]\n",
      "[0.20242718 0.79757285]\n",
      "[0.7787083  0.22129168]\n",
      "[0.24790384 0.7520961 ]\n",
      "[0.66537064 0.33462933]\n",
      "[0.18125357 0.8187464 ]\n",
      "[0.7590147  0.24098532]\n",
      "[0.40636155 0.5936384 ]\n",
      "[0.806223 0.193777]\n",
      "[0.2608883 0.7391118]\n",
      "[0.4528137  0.54718626]\n",
      "[0.3035669 0.6964331]\n",
      "[0.87524563 0.12475431]\n",
      "[0.18672985 0.8132702 ]\n",
      "[0.3196794  0.68032056]\n",
      "[0.96719724 0.03280273]\n",
      "[0.37172905 0.6282709 ]\n",
      "[0.4810288  0.51897115]\n",
      "[0.48959994 0.51040006]\n",
      "[0.93439204 0.06560796]\n",
      "[0.82070446 0.17929555]\n",
      "[0.8004593  0.19954069]\n",
      "[0.8932442  0.10675583]\n",
      "[0.53601885 0.46398118]\n",
      "[0.5042527  0.49574733]\n",
      "[0.28094742 0.71905255]\n",
      "[0.47360727 0.52639276]\n",
      "[0.18269572 0.8173043 ]\n",
      "[0.19336869 0.80663127]\n",
      "[0.77667284 0.22332719]\n",
      "[0.18918787 0.8108121 ]\n",
      "[0.93423665 0.06576331]\n",
      "[0.4488719 0.5511281]\n",
      "[0.8116079  0.18839207]\n",
      "[0.9042651 0.0957349]\n",
      "[0.53709203 0.46290794]\n",
      "[0.73941654 0.26058352]\n",
      "[0.91075754 0.0892425 ]\n",
      "[0.7576831  0.24231696]\n",
      "[0.9568214  0.04317865]\n",
      "[0.9081084  0.09189152]\n",
      "[0.7807782  0.21922174]\n",
      "[0.93581945 0.06418055]\n",
      "[0.74249196 0.25750804]\n",
      "[0.36521628 0.63478374]\n",
      "[0.37484005 0.62516   ]\n",
      "[0.81375617 0.18624386]\n",
      "[0.5807727  0.41922733]\n",
      "[0.8689761  0.13102384]\n",
      "[0.1782916 0.8217084]\n",
      "[0.80714285 0.1928572 ]\n",
      "[0.3485446  0.65145546]\n",
      "[0.7286462  0.27135378]\n",
      "[0.85241044 0.14758953]\n",
      "[0.65697646 0.34302357]\n",
      "[0.48593724 0.5140627 ]\n",
      "[0.87402135 0.12597865]\n",
      "[0.26371202 0.736288  ]\n",
      "[0.28929546 0.7107045 ]\n",
      "[0.17092028 0.82907975]\n",
      "[0.82781404 0.17218599]\n",
      "[0.29686803 0.7031319 ]\n",
      "[0.959062   0.04093811]\n",
      "[0.19182838 0.80817163]\n",
      "[0.19018416 0.80981576]\n",
      "[0.66114014 0.33885992]\n",
      "[0.94291484 0.05708512]\n",
      "[0.8212693  0.17873068]\n",
      "[0.5605757 0.4394243]\n",
      "[0.23770203 0.76229805]\n",
      "[0.78918785 0.21081221]\n",
      "[0.5163886  0.48361143]\n",
      "[0.61631167 0.38368833]\n",
      "[0.83853996 0.16146006]\n",
      "[0.75361437 0.24638565]\n",
      "[0.53970283 0.4602971 ]\n",
      "[0.22275753 0.7772424 ]\n",
      "[0.9580913  0.04190871]\n",
      "[0.3190223  0.68097776]\n",
      "[0.24353686 0.7564631 ]\n",
      "[0.45782033 0.54217964]\n",
      "[0.9212872  0.07871281]\n",
      "[0.62607557 0.37392443]\n",
      "[0.76822454 0.2317754 ]\n",
      "[0.6806086  0.31939146]\n",
      "[0.1934996 0.8065004]\n",
      "[0.80852866 0.19147132]\n",
      "[0.6047638 0.3952362]\n",
      "[0.5204136 0.4795864]\n",
      "[0.2542068 0.7457933]\n",
      "[0.33906507 0.6609349 ]\n",
      "[0.3232443 0.6767557]\n",
      "[0.77305055 0.22694945]\n",
      "[0.4883826  0.51161736]\n",
      "[0.7178735  0.28212655]\n",
      "[0.19120546 0.8087945 ]\n",
      "[0.52209264 0.4779073 ]\n",
      "[0.19362557 0.8063744 ]\n",
      "[0.26589745 0.7341026 ]\n",
      "[0.30230978 0.6976902 ]\n",
      "[0.23981676 0.7601832 ]\n",
      "[0.7925006  0.20749933]\n",
      "[0.27447423 0.72552586]\n",
      "[0.28775856 0.7122414 ]\n",
      "[0.20037992 0.7996201 ]\n",
      "[0.47293267 0.5270673 ]\n",
      "[0.57399815 0.4260018 ]\n",
      "[0.81444585 0.18555422]\n",
      "[0.7651822  0.23481788]\n",
      "[0.8052914 0.1947086]\n",
      "[0.4954495 0.5045506]\n",
      "[0.8522995  0.14770046]\n",
      "[0.20104696 0.7989531 ]\n",
      "[0.7966046  0.20339546]\n",
      "[0.43812186 0.5618782 ]\n",
      "[0.9232735  0.07672658]\n",
      "[0.60195434 0.3980457 ]\n",
      "[0.37285736 0.62714267]\n",
      "[0.8906679  0.10933205]\n",
      "[0.7746349  0.22536506]\n",
      "[0.9253116  0.07468831]\n",
      "[0.8086149  0.19138516]\n",
      "[0.662079   0.33792105]\n",
      "[0.7725442  0.22745578]\n",
      "[0.45066884 0.5493312 ]\n",
      "[0.8595434  0.14045665]\n",
      "[0.2963345 0.7036655]\n",
      "[0.24346499 0.756535  ]\n",
      "[0.7693033  0.23069668]\n",
      "[0.8773837  0.12261631]\n",
      "[0.8278295  0.17217048]\n",
      "[0.25351402 0.746486  ]\n",
      "[0.27566305 0.724337  ]\n",
      "[0.23642899 0.763571  ]\n",
      "[0.49049976 0.50950027]\n",
      "[0.2524844 0.7475156]\n",
      "[0.5011967 0.4988033]\n",
      "[0.816944   0.18305603]\n",
      "[0.73353726 0.26646274]\n",
      "[0.22533223 0.7746678 ]\n",
      "[0.83357906 0.16642095]\n",
      "[0.4012187  0.59878135]\n",
      "[0.84344023 0.15655977]\n",
      "[0.88646525 0.11353479]\n",
      "[0.18461144 0.81538856]\n",
      "[0.88641137 0.11358861]\n",
      "[0.93650156 0.06349844]\n",
      "[0.3301835 0.6698165]\n",
      "[0.31605825 0.6839418 ]\n",
      "[0.6578245  0.34217545]\n",
      "[0.4151424 0.5848576]\n",
      "[0.31757814 0.68242186]\n",
      "[0.30073878 0.6992612 ]\n",
      "[0.558033 0.441967]\n",
      "[0.87172127 0.12827866]\n",
      "[0.25563395 0.74436605]\n",
      "[0.47953913 0.5204609 ]\n",
      "[0.1687407  0.83125925]\n",
      "[0.90334725 0.09665272]\n",
      "[0.81711715 0.1828829 ]\n",
      "[0.8537095  0.14629051]\n",
      "[0.27564153 0.7243585 ]\n",
      "[0.6880142  0.31198573]\n"
     ]
    }
   ],
   "source": [
    "for i in predictions:\n",
    "    print(i)"
   ]
  },
  {
   "cell_type": "code",
   "execution_count": 31,
   "metadata": {},
   "outputs": [],
   "source": [
    "rounded_predictions = np.argmax(predictions, axis=-1)"
   ]
  },
  {
   "cell_type": "markdown",
   "metadata": {},
   "source": [
    "# 6. Create a Confusion Matrix for Neural Network Predictions"
   ]
  },
  {
   "cell_type": "code",
   "execution_count": 32,
   "metadata": {},
   "outputs": [],
   "source": [
    "%matplotlib inline\n",
    "from sklearn.metrics import confusion_matrix\n",
    "import itertools\n",
    "import matplotlib.pyplot as plt"
   ]
  },
  {
   "cell_type": "code",
   "execution_count": 33,
   "metadata": {},
   "outputs": [],
   "source": [
    "cm = confusion_matrix(y_true=y_test, y_pred=rounded_predictions)"
   ]
  },
  {
   "cell_type": "code",
   "execution_count": 34,
   "metadata": {},
   "outputs": [],
   "source": [
    "def plot_confusion_matrix(cm, classes,\n",
    "                        normalize=False,\n",
    "                        title='Confusion matrix',\n",
    "                        cmap=plt.cm.Blues):\n",
    "    \"\"\"\n",
    "    This function prints and plots the confusion matrix.\n",
    "    Normalization can be applied by setting `normalize=True`.\n",
    "    \"\"\"\n",
    "    plt.imshow(cm, interpolation='nearest', cmap=cmap)\n",
    "    plt.title(title)\n",
    "    plt.colorbar()\n",
    "    tick_marks = np.arange(len(classes))\n",
    "    plt.xticks(tick_marks, classes, rotation=45)\n",
    "    plt.yticks(tick_marks, classes)\n",
    "\n",
    "    if normalize:\n",
    "        cm = cm.astype('float') / cm.sum(axis=1)[:, np.newaxis]\n",
    "        print(\"Normalized confusion matrix\")\n",
    "    else:\n",
    "        print('Confusion matrix, without normalization')\n",
    "\n",
    "    print(cm)\n",
    "\n",
    "    thresh = cm.max() / 2.\n",
    "    for i, j in itertools.product(range(cm.shape[0]), range(cm.shape[1])):\n",
    "        plt.text(j, i, cm[i, j],\n",
    "            horizontalalignment=\"center\",\n",
    "            color=\"white\" if cm[i, j] > thresh else \"black\")\n",
    "\n",
    "    plt.tight_layout()\n",
    "    plt.ylabel('True label')\n",
    "    plt.xlabel('Predicted label')"
   ]
  },
  {
   "cell_type": "code",
   "execution_count": 35,
   "metadata": {},
   "outputs": [],
   "source": [
    "cm_plot_labels = ['OK','NG']"
   ]
  },
  {
   "cell_type": "code",
   "execution_count": 36,
   "metadata": {},
   "outputs": [
    {
     "name": "stdout",
     "output_type": "stream",
     "text": [
      "Confusion matrix, without normalization\n",
      "[[85  4]\n",
      " [14 74]]\n"
     ]
    },
    {
     "data": {
      "image/png": "[encoded data removed]",
      "text/plain": [
       "<Figure size 432x288 with 2 Axes>"
      ]
     },
     "metadata": {
      "needs_background": "light"
     },
     "output_type": "display_data"
    }
   ],
   "source": [
    "plot_confusion_matrix(cm=cm, classes=cm_plot_labels, title='Confusion Matrix')"
   ]
  },
  {
   "cell_type": "markdown",
   "metadata": {},
   "source": [
    "# 7. Create a Classification Report for Neural Network Predictions"
   ]
  },
  {
   "cell_type": "code",
   "execution_count": 37,
   "metadata": {},
   "outputs": [
    {
     "name": "stdout",
     "output_type": "stream",
     "text": [
      "              precision    recall  f1-score   support\n",
      "\n",
      "           0       0.86      0.96      0.90        89\n",
      "           1       0.95      0.84      0.89        88\n",
      "\n",
      "    accuracy                           0.90       177\n",
      "   macro avg       0.90      0.90      0.90       177\n",
      "weighted avg       0.90      0.90      0.90       177\n",
      "\n"
     ]
    }
   ],
   "source": [
    "y_pred = rounded_predictions\n",
    "\n",
    "from sklearn.metrics import classification_report\n",
    "print(classification_report(y_test, y_pred))"
   ]
  },
  {
   "cell_type": "code",
   "execution_count": 38,
   "metadata": {},
   "outputs": [
    {
     "data": {
      "image/png": "[encoded data removed]",
      "text/plain": [
       "<Figure size 432x288 with 1 Axes>"
      ]
     },
     "metadata": {
      "needs_background": "light"
     },
     "output_type": "display_data"
    }
   ],
   "source": [
    "from sklearn.metrics import roc_auc_score\n",
    "from sklearn.metrics import roc_curve\n",
    "ann_roc_auc = roc_auc_score(y_test, model.predict(X_test_scaled)[:,1])\n",
    "fpr, tpr, thresholds = roc_curve(y_test, model.predict_proba(X_test_scaled)[:,1])\n",
    "plt.figure()\n",
    "plt.plot(fpr, tpr, label='Artificial Neural Network (area = %0.4f)' % ann_roc_auc)\n",
    "plt.plot([0, 1], [0, 1],'r--')\n",
    "plt.xlim([0.0, 1.0])\n",
    "plt.ylim([0.0, 1.05])\n",
    "plt.xlabel('False Positive Rate')\n",
    "plt.ylabel('True Positive Rate')\n",
    "plt.title('Receiver operating characteristic')\n",
    "plt.legend(loc='lower right')\n",
    "plt.savefig('ANN_ROC')\n",
    "plt.show()"
   ]
  },
  {
   "cell_type": "code",
   "execution_count": 39,
   "metadata": {},
   "outputs": [],
   "source": [
    "import shutil\n",
    "dir_path = 'C:\\\\Users\\\\רועי\\\\data\\\\NG-vs-OK\\\\DA1'\n",
    "shutil.rmtree(dir_path)"
   ]
  }
 ],
 "metadata": {
  "kernelspec": {
   "display_name": "Python 3",
   "language": "python",
   "name": "python3"
  },
  "language_info": {
   "codemirror_mode": {
    "name": "ipython",
    "version": 3
   },
   "file_extension": ".py",
   "mimetype": "text/x-python",
   "name": "python",
   "nbconvert_exporter": "python",
   "pygments_lexer": "ipython3",
   "version": "3.7.4"
  }
 },
 "nbformat": 4,
 "nbformat_minor": 5
}
